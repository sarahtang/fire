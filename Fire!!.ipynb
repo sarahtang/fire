{
 "cells": [
  {
   "cell_type": "code",
   "execution_count": 2,
   "metadata": {},
   "outputs": [],
   "source": [
    "import pandas as pd\n",
    "import numpy as np\n",
    "from datetime import datetime"
   ]
  },
  {
   "cell_type": "code",
   "execution_count": 44,
   "metadata": {},
   "outputs": [],
   "source": [
    "viirs = pd.read_csv(\"fire_nrt_V1_83401.csv\")\n",
    "# modis = pd.read_csv(\"fire_nrt_M6_83400.csv\")"
   ]
  },
  {
   "cell_type": "code",
   "execution_count": 45,
   "metadata": {},
   "outputs": [
    {
     "data": {
      "text/html": [
       "<div>\n",
       "<style scoped>\n",
       "    .dataframe tbody tr th:only-of-type {\n",
       "        vertical-align: middle;\n",
       "    }\n",
       "\n",
       "    .dataframe tbody tr th {\n",
       "        vertical-align: top;\n",
       "    }\n",
       "\n",
       "    .dataframe thead th {\n",
       "        text-align: right;\n",
       "    }\n",
       "</style>\n",
       "<table border=\"1\" class=\"dataframe\">\n",
       "  <thead>\n",
       "    <tr style=\"text-align: right;\">\n",
       "      <th></th>\n",
       "      <th>latitude</th>\n",
       "      <th>longitude</th>\n",
       "      <th>bright_ti4</th>\n",
       "      <th>scan</th>\n",
       "      <th>track</th>\n",
       "      <th>acq_date</th>\n",
       "      <th>acq_time</th>\n",
       "      <th>satellite</th>\n",
       "      <th>instrument</th>\n",
       "      <th>confidence</th>\n",
       "      <th>version</th>\n",
       "      <th>bright_ti5</th>\n",
       "      <th>frp</th>\n",
       "      <th>daynight</th>\n",
       "    </tr>\n",
       "  </thead>\n",
       "  <tbody>\n",
       "    <tr>\n",
       "      <th>0</th>\n",
       "      <td>33.03452</td>\n",
       "      <td>-83.08730</td>\n",
       "      <td>318.6</td>\n",
       "      <td>0.32</td>\n",
       "      <td>0.55</td>\n",
       "      <td>2019-07-01</td>\n",
       "      <td>636</td>\n",
       "      <td>N</td>\n",
       "      <td>VIIRS</td>\n",
       "      <td>n</td>\n",
       "      <td>1.0NRT</td>\n",
       "      <td>288.2</td>\n",
       "      <td>0.9</td>\n",
       "      <td>N</td>\n",
       "    </tr>\n",
       "    <tr>\n",
       "      <th>1</th>\n",
       "      <td>34.63658</td>\n",
       "      <td>-87.09289</td>\n",
       "      <td>304.2</td>\n",
       "      <td>0.56</td>\n",
       "      <td>0.69</td>\n",
       "      <td>2019-07-01</td>\n",
       "      <td>636</td>\n",
       "      <td>N</td>\n",
       "      <td>VIIRS</td>\n",
       "      <td>n</td>\n",
       "      <td>1.0NRT</td>\n",
       "      <td>286.8</td>\n",
       "      <td>1.0</td>\n",
       "      <td>N</td>\n",
       "    </tr>\n",
       "    <tr>\n",
       "      <th>2</th>\n",
       "      <td>34.63654</td>\n",
       "      <td>-87.08815</td>\n",
       "      <td>304.2</td>\n",
       "      <td>0.56</td>\n",
       "      <td>0.69</td>\n",
       "      <td>2019-07-01</td>\n",
       "      <td>636</td>\n",
       "      <td>N</td>\n",
       "      <td>VIIRS</td>\n",
       "      <td>n</td>\n",
       "      <td>1.0NRT</td>\n",
       "      <td>287.2</td>\n",
       "      <td>1.9</td>\n",
       "      <td>N</td>\n",
       "    </tr>\n",
       "    <tr>\n",
       "      <th>3</th>\n",
       "      <td>34.34694</td>\n",
       "      <td>-82.77595</td>\n",
       "      <td>306.3</td>\n",
       "      <td>0.32</td>\n",
       "      <td>0.54</td>\n",
       "      <td>2019-07-01</td>\n",
       "      <td>636</td>\n",
       "      <td>N</td>\n",
       "      <td>VIIRS</td>\n",
       "      <td>n</td>\n",
       "      <td>1.0NRT</td>\n",
       "      <td>291.0</td>\n",
       "      <td>0.8</td>\n",
       "      <td>N</td>\n",
       "    </tr>\n",
       "    <tr>\n",
       "      <th>4</th>\n",
       "      <td>43.24686</td>\n",
       "      <td>-70.96125</td>\n",
       "      <td>301.8</td>\n",
       "      <td>0.39</td>\n",
       "      <td>0.36</td>\n",
       "      <td>2019-07-01</td>\n",
       "      <td>636</td>\n",
       "      <td>N</td>\n",
       "      <td>VIIRS</td>\n",
       "      <td>n</td>\n",
       "      <td>1.0NRT</td>\n",
       "      <td>285.4</td>\n",
       "      <td>0.6</td>\n",
       "      <td>N</td>\n",
       "    </tr>\n",
       "  </tbody>\n",
       "</table>\n",
       "</div>"
      ],
      "text/plain": [
       "   latitude  longitude  bright_ti4  scan  track    acq_date  acq_time  \\\n",
       "0  33.03452  -83.08730       318.6  0.32   0.55  2019-07-01       636   \n",
       "1  34.63658  -87.09289       304.2  0.56   0.69  2019-07-01       636   \n",
       "2  34.63654  -87.08815       304.2  0.56   0.69  2019-07-01       636   \n",
       "3  34.34694  -82.77595       306.3  0.32   0.54  2019-07-01       636   \n",
       "4  43.24686  -70.96125       301.8  0.39   0.36  2019-07-01       636   \n",
       "\n",
       "  satellite instrument confidence version  bright_ti5  frp daynight  \n",
       "0         N      VIIRS          n  1.0NRT       288.2  0.9        N  \n",
       "1         N      VIIRS          n  1.0NRT       286.8  1.0        N  \n",
       "2         N      VIIRS          n  1.0NRT       287.2  1.9        N  \n",
       "3         N      VIIRS          n  1.0NRT       291.0  0.8        N  \n",
       "4         N      VIIRS          n  1.0NRT       285.4  0.6        N  "
      ]
     },
     "execution_count": 45,
     "metadata": {},
     "output_type": "execute_result"
    }
   ],
   "source": [
    "viirs.head()"
   ]
  },
  {
   "cell_type": "code",
   "execution_count": 46,
   "metadata": {},
   "outputs": [],
   "source": [
    "# modis.head()"
   ]
  },
  {
   "cell_type": "code",
   "execution_count": 6,
   "metadata": {},
   "outputs": [],
   "source": [
    "# modis = modis.rename(columns = {\"bright_t31\": \"channel_brightness\"})\n",
    "# viirs = viirs.rename(columns = {\"bright_ti5\": \"channel_brightness\"})"
   ]
  },
  {
   "cell_type": "code",
   "execution_count": 7,
   "metadata": {},
   "outputs": [],
   "source": [
    "# viirs = viirs.rename(columns = {\"bright_ti4\": \"brightness\"})"
   ]
  },
  {
   "cell_type": "code",
   "execution_count": 8,
   "metadata": {},
   "outputs": [],
   "source": [
    "# firedata = pd.concat([viirs, modis])"
   ]
  },
  {
   "cell_type": "code",
   "execution_count": 10,
   "metadata": {},
   "outputs": [],
   "source": [
    "# firedata = firedata.reset_index()"
   ]
  },
  {
   "cell_type": "code",
   "execution_count": 12,
   "metadata": {},
   "outputs": [],
   "source": [
    "# firedata = firedata.drop(columns = \"index\")"
   ]
  },
  {
   "cell_type": "code",
   "execution_count": 32,
   "metadata": {},
   "outputs": [],
   "source": [
    "# type(firedata['acq_date'][1])"
   ]
  },
  {
   "cell_type": "code",
   "execution_count": 47,
   "metadata": {},
   "outputs": [],
   "source": [
    "viirs['acq_date'] = viirs['acq_date'].apply(lambda x: datetime.strptime(x, '%Y-%m-%d'))"
   ]
  },
  {
   "cell_type": "code",
   "execution_count": 48,
   "metadata": {},
   "outputs": [
    {
     "data": {
      "text/html": [
       "<div>\n",
       "<style scoped>\n",
       "    .dataframe tbody tr th:only-of-type {\n",
       "        vertical-align: middle;\n",
       "    }\n",
       "\n",
       "    .dataframe tbody tr th {\n",
       "        vertical-align: top;\n",
       "    }\n",
       "\n",
       "    .dataframe thead th {\n",
       "        text-align: right;\n",
       "    }\n",
       "</style>\n",
       "<table border=\"1\" class=\"dataframe\">\n",
       "  <thead>\n",
       "    <tr style=\"text-align: right;\">\n",
       "      <th></th>\n",
       "      <th>latitude</th>\n",
       "      <th>longitude</th>\n",
       "      <th>bright_ti4</th>\n",
       "      <th>scan</th>\n",
       "      <th>track</th>\n",
       "      <th>acq_date</th>\n",
       "      <th>acq_time</th>\n",
       "      <th>satellite</th>\n",
       "      <th>instrument</th>\n",
       "      <th>confidence</th>\n",
       "      <th>version</th>\n",
       "      <th>bright_ti5</th>\n",
       "      <th>frp</th>\n",
       "      <th>daynight</th>\n",
       "    </tr>\n",
       "  </thead>\n",
       "  <tbody>\n",
       "    <tr>\n",
       "      <th>0</th>\n",
       "      <td>33.03452</td>\n",
       "      <td>-83.08730</td>\n",
       "      <td>318.6</td>\n",
       "      <td>0.32</td>\n",
       "      <td>0.55</td>\n",
       "      <td>2019-07-01</td>\n",
       "      <td>636</td>\n",
       "      <td>N</td>\n",
       "      <td>VIIRS</td>\n",
       "      <td>n</td>\n",
       "      <td>1.0NRT</td>\n",
       "      <td>288.2</td>\n",
       "      <td>0.9</td>\n",
       "      <td>N</td>\n",
       "    </tr>\n",
       "    <tr>\n",
       "      <th>1</th>\n",
       "      <td>34.63658</td>\n",
       "      <td>-87.09289</td>\n",
       "      <td>304.2</td>\n",
       "      <td>0.56</td>\n",
       "      <td>0.69</td>\n",
       "      <td>2019-07-01</td>\n",
       "      <td>636</td>\n",
       "      <td>N</td>\n",
       "      <td>VIIRS</td>\n",
       "      <td>n</td>\n",
       "      <td>1.0NRT</td>\n",
       "      <td>286.8</td>\n",
       "      <td>1.0</td>\n",
       "      <td>N</td>\n",
       "    </tr>\n",
       "    <tr>\n",
       "      <th>2</th>\n",
       "      <td>34.63654</td>\n",
       "      <td>-87.08815</td>\n",
       "      <td>304.2</td>\n",
       "      <td>0.56</td>\n",
       "      <td>0.69</td>\n",
       "      <td>2019-07-01</td>\n",
       "      <td>636</td>\n",
       "      <td>N</td>\n",
       "      <td>VIIRS</td>\n",
       "      <td>n</td>\n",
       "      <td>1.0NRT</td>\n",
       "      <td>287.2</td>\n",
       "      <td>1.9</td>\n",
       "      <td>N</td>\n",
       "    </tr>\n",
       "    <tr>\n",
       "      <th>3</th>\n",
       "      <td>34.34694</td>\n",
       "      <td>-82.77595</td>\n",
       "      <td>306.3</td>\n",
       "      <td>0.32</td>\n",
       "      <td>0.54</td>\n",
       "      <td>2019-07-01</td>\n",
       "      <td>636</td>\n",
       "      <td>N</td>\n",
       "      <td>VIIRS</td>\n",
       "      <td>n</td>\n",
       "      <td>1.0NRT</td>\n",
       "      <td>291.0</td>\n",
       "      <td>0.8</td>\n",
       "      <td>N</td>\n",
       "    </tr>\n",
       "    <tr>\n",
       "      <th>4</th>\n",
       "      <td>43.24686</td>\n",
       "      <td>-70.96125</td>\n",
       "      <td>301.8</td>\n",
       "      <td>0.39</td>\n",
       "      <td>0.36</td>\n",
       "      <td>2019-07-01</td>\n",
       "      <td>636</td>\n",
       "      <td>N</td>\n",
       "      <td>VIIRS</td>\n",
       "      <td>n</td>\n",
       "      <td>1.0NRT</td>\n",
       "      <td>285.4</td>\n",
       "      <td>0.6</td>\n",
       "      <td>N</td>\n",
       "    </tr>\n",
       "  </tbody>\n",
       "</table>\n",
       "</div>"
      ],
      "text/plain": [
       "   latitude  longitude  bright_ti4  scan  track   acq_date  acq_time  \\\n",
       "0  33.03452  -83.08730       318.6  0.32   0.55 2019-07-01       636   \n",
       "1  34.63658  -87.09289       304.2  0.56   0.69 2019-07-01       636   \n",
       "2  34.63654  -87.08815       304.2  0.56   0.69 2019-07-01       636   \n",
       "3  34.34694  -82.77595       306.3  0.32   0.54 2019-07-01       636   \n",
       "4  43.24686  -70.96125       301.8  0.39   0.36 2019-07-01       636   \n",
       "\n",
       "  satellite instrument confidence version  bright_ti5  frp daynight  \n",
       "0         N      VIIRS          n  1.0NRT       288.2  0.9        N  \n",
       "1         N      VIIRS          n  1.0NRT       286.8  1.0        N  \n",
       "2         N      VIIRS          n  1.0NRT       287.2  1.9        N  \n",
       "3         N      VIIRS          n  1.0NRT       291.0  0.8        N  \n",
       "4         N      VIIRS          n  1.0NRT       285.4  0.6        N  "
      ]
     },
     "execution_count": 48,
     "metadata": {},
     "output_type": "execute_result"
    }
   ],
   "source": [
    "viirs.head()"
   ]
  },
  {
   "cell_type": "code",
   "execution_count": 73,
   "metadata": {},
   "outputs": [
    {
     "data": {
      "text/plain": [
       "143937"
      ]
     },
     "execution_count": 73,
     "metadata": {},
     "output_type": "execute_result"
    }
   ],
   "source": [
    "viirs_na = viirs[(viirs.latitude <= 50) &\n",
    "                 (viirs.latitude >= 28) &\n",
    "                 (viirs.longitude <= -60) &\n",
    "                 (viirs.longitude >= -130)]\n",
    "viirs_na.head()\n",
    "len(viirs_na)"
   ]
  },
  {
   "cell_type": "code",
   "execution_count": 74,
   "metadata": {},
   "outputs": [
    {
     "data": {
      "text/plain": [
       "239299"
      ]
     },
     "execution_count": 74,
     "metadata": {},
     "output_type": "execute_result"
    }
   ],
   "source": [
    "len(viirs)"
   ]
  },
  {
   "cell_type": "code",
   "execution_count": 75,
   "metadata": {},
   "outputs": [
    {
     "data": {
      "text/plain": [
       "208360"
      ]
     },
     "execution_count": 75,
     "metadata": {},
     "output_type": "execute_result"
    }
   ],
   "source": [
    "len(viirs.groupby(['latitude']))"
   ]
  },
  {
   "cell_type": "code",
   "execution_count": 76,
   "metadata": {},
   "outputs": [
    {
     "data": {
      "text/plain": [
       "217639"
      ]
     },
     "execution_count": 76,
     "metadata": {},
     "output_type": "execute_result"
    }
   ],
   "source": [
    "len(viirs.groupby(['longitude']))"
   ]
  },
  {
   "cell_type": "code",
   "execution_count": 42,
   "metadata": {},
   "outputs": [
    {
     "data": {
      "text/plain": [
       "0    True\n",
       "1    True\n",
       "2    True\n",
       "3    True\n",
       "4    True\n",
       "Name: latitude, dtype: bool"
      ]
     },
     "execution_count": 42,
     "metadata": {},
     "output_type": "execute_result"
    }
   ],
   "source": [
    "# viirs = viirs['latitude'].filter(lambda x: x > -180)\n",
    "# viirs.head()\n",
    "viirs.head()"
   ]
  },
  {
   "cell_type": "code",
   "execution_count": null,
   "metadata": {},
   "outputs": [],
   "source": []
  }
 ],
 "metadata": {
  "kernelspec": {
   "display_name": "Python 3",
   "language": "python",
   "name": "python3"
  },
  "language_info": {
   "codemirror_mode": {
    "name": "ipython",
    "version": 3
   },
   "file_extension": ".py",
   "mimetype": "text/x-python",
   "name": "python",
   "nbconvert_exporter": "python",
   "pygments_lexer": "ipython3",
   "version": "3.7.3"
  }
 },
 "nbformat": 4,
 "nbformat_minor": 2
}
